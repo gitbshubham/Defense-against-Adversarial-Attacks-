{
 "cells": [
  {
   "cell_type": "code",
   "execution_count": 11,
   "metadata": {},
   "outputs": [],
   "source": [
    "import matplotlib.pyplot as plt\n",
    "import numpy as np\n",
    "import pandas as pd \n",
    "import random \n",
    "import torch\n",
    "import torchvision\n",
    "from torchvision import transforms, datasets\n",
    "from torch.autograd import Variable\n",
    "from torch.utils.data import DataLoader,random_split\n",
    "from torch import nn\n",
    "import torch.nn.functional as F\n",
    "import torch.optim as optim\n",
    "import time\n",
    "\n",
    "from ae_mnist import ConvAutoencoder_GELU, ConvAutoencoder_ReLU\n",
    "from utils import fgsm_attack, pgd_linf, to_numpy_array, EarlyStopping\n",
    "from lenet import Net"
   ]
  },
  {
   "cell_type": "code",
   "execution_count": 12,
   "metadata": {},
   "outputs": [],
   "source": [
    "attack_type = 'fgsm'\n",
    "activation_type = 'gelu'\n",
    "dataset = 'mnist'\n",
    "batch_size = 16\n",
    "z_dim = 10\n",
    "include_noise = True\n",
    "\n",
    "# FGSM parameters\n",
    "eps_fgsm = 0.3\n",
    "#PGD parameters\n",
    "eps_pgd, alpha, num_iter = 0.15, 1e-2, 40"
   ]
  },
  {
   "cell_type": "code",
   "execution_count": 13,
   "metadata": {},
   "outputs": [],
   "source": [
    "transform=transforms.Compose([\n",
    "            transforms.ToTensor(),\n",
    "])\n",
    "\n",
    "test_dataset = datasets.MNIST(root= './data', train = False, download =True, transform = transform)\n",
    "test_loader = DataLoader(test_dataset, batch_size=batch_size, shuffle=True)"
   ]
  },
  {
   "cell_type": "code",
   "execution_count": 14,
   "metadata": {},
   "outputs": [
    {
     "name": "stdout",
     "output_type": "stream",
     "text": [
      "Selected device: cuda\n"
     ]
    }
   ],
   "source": [
    "device = torch.device(\"cuda\") if torch.cuda.is_available() else torch.device(\"cpu\")\n",
    "print(f'Selected device: {device}')"
   ]
  },
  {
   "cell_type": "code",
   "execution_count": 15,
   "metadata": {},
   "outputs": [
    {
     "data": {
      "text/plain": [
       "<All keys matched successfully>"
      ]
     },
     "execution_count": 15,
     "metadata": {},
     "output_type": "execute_result"
    }
   ],
   "source": [
    "classifier = Net()\n",
    "classifier.to(device)\n",
    "classifier.load_state_dict(torch.load('./models/lenet_mnist_model.pth'))"
   ]
  },
  {
   "attachments": {},
   "cell_type": "markdown",
   "metadata": {},
   "source": [
    "## Performance of GELU Proposed Architecture (FGSM Attack)"
   ]
  },
  {
   "cell_type": "code",
   "execution_count": 16,
   "metadata": {},
   "outputs": [
    {
     "data": {
      "text/plain": [
       "<All keys matched successfully>"
      ]
     },
     "execution_count": 16,
     "metadata": {},
     "output_type": "execute_result"
    }
   ],
   "source": [
    "include_noise = True\n",
    "attack_type = 'fgsm'\n",
    "activation_type = 'gelu'\n",
    "\n",
    "if include_noise:\n",
    "    file_path = f'./models/ae_mnist_{attack_type}_{activation_type}_proposed.pth.tar'\n",
    "else:\n",
    "    file_path = f'./models/ae_mnist_{attack_type}_{activation_type}_vanilla.pth.tar'\n",
    "\n",
    "convAE = ConvAutoencoder_GELU(device, z_dim, include_noise)\n",
    "convAE.to(device)\n",
    "convAE.load_state_dict(torch.load(file_path)['convAE_state_dict'])"
   ]
  },
  {
   "cell_type": "code",
   "execution_count": 17,
   "metadata": {},
   "outputs": [
    {
     "name": "stdout",
     "output_type": "stream",
     "text": [
      "Epsilon: 0.3, Test Accuracy: 0.9174\n"
     ]
    }
   ],
   "source": [
    "correct, total = 0, 0\n",
    "\n",
    "for _, (imgs, labels) in enumerate(test_loader):\n",
    "    batch_size = imgs.shape[0]\n",
    "    imgs, labels = Variable(imgs.to(device), requires_grad=True), Variable(labels.to(device))\n",
    "    \n",
    "    if attack_type == 'fgsm':\n",
    "        adv_imgs, _ = fgsm_attack(classifier, imgs, labels, eps_fgsm, dataset)\n",
    "    else:\n",
    "        adv_imgs, _ = pgd_linf(classifier, imgs, labels, eps_pgd, alpha, num_iter)\n",
    "\n",
    "    adv_imgs = adv_imgs.to(device)\n",
    "\n",
    "    with torch.no_grad():\n",
    "        rec_imgs = convAE(adv_imgs)\n",
    "\n",
    "    y_preds = classifier(rec_imgs).argmax(dim=1)\n",
    "    correct += (y_preds==labels).sum().item()\n",
    "    total += labels.size(0)\n",
    "\n",
    "print(\"Epsilon: {}, Test Accuracy: {}\".format(eps_fgsm, correct / total))"
   ]
  },
  {
   "attachments": {},
   "cell_type": "markdown",
   "metadata": {},
   "source": [
    "## Performance of GELU Vanilla Architecture (FGSM Attack)"
   ]
  },
  {
   "cell_type": "code",
   "execution_count": 18,
   "metadata": {},
   "outputs": [
    {
     "data": {
      "text/plain": [
       "<All keys matched successfully>"
      ]
     },
     "execution_count": 18,
     "metadata": {},
     "output_type": "execute_result"
    }
   ],
   "source": [
    "include_noise = False\n",
    "attack_type = 'fgsm'\n",
    "activation_type = 'gelu'\n",
    "\n",
    "if include_noise:\n",
    "    file_path = f'./models/ae_mnist_{attack_type}_{activation_type}_proposed.pth.tar'\n",
    "else:\n",
    "    file_path = f'./models/ae_mnist_{attack_type}_{activation_type}_vanilla.pth.tar'\n",
    "\n",
    "convAE = ConvAutoencoder_GELU(device, z_dim, include_noise)\n",
    "convAE.to(device)\n",
    "convAE.load_state_dict(torch.load(file_path)['convAE_state_dict'])"
   ]
  },
  {
   "cell_type": "code",
   "execution_count": 19,
   "metadata": {},
   "outputs": [
    {
     "name": "stdout",
     "output_type": "stream",
     "text": [
      "Epsilon: 0.3, Test Accuracy: 0.9076\n"
     ]
    }
   ],
   "source": [
    "correct, total = 0, 0\n",
    "\n",
    "for _, (imgs, labels) in enumerate(test_loader):\n",
    "    batch_size = imgs.shape[0]\n",
    "    imgs, labels = Variable(imgs.to(device), requires_grad=True), Variable(labels.to(device))\n",
    "    \n",
    "    if attack_type == 'fgsm':\n",
    "        adv_imgs, _ = fgsm_attack(classifier, imgs, labels, eps_fgsm, dataset)\n",
    "    else:\n",
    "        adv_imgs, _ = pgd_linf(classifier, imgs, labels, eps_pgd, alpha, num_iter)\n",
    "\n",
    "    adv_imgs = adv_imgs.to(device)\n",
    "\n",
    "    with torch.no_grad():\n",
    "        rec_imgs = convAE(adv_imgs)\n",
    "\n",
    "    y_preds = classifier(rec_imgs).argmax(dim=1)\n",
    "    correct += (y_preds==labels).sum().item()\n",
    "    total += labels.size(0)\n",
    "\n",
    "print(\"Epsilon: {}, Test Accuracy: {}\".format(eps_fgsm, correct / total))"
   ]
  },
  {
   "attachments": {},
   "cell_type": "markdown",
   "metadata": {},
   "source": [
    "## Performance of ReLU Proposed Architecture (FGSM Attack)"
   ]
  },
  {
   "cell_type": "code",
   "execution_count": 20,
   "metadata": {},
   "outputs": [
    {
     "data": {
      "text/plain": [
       "<All keys matched successfully>"
      ]
     },
     "execution_count": 20,
     "metadata": {},
     "output_type": "execute_result"
    }
   ],
   "source": [
    "include_noise = True\n",
    "attack_type = 'fgsm'\n",
    "activation_type = 'relu'\n",
    "\n",
    "if include_noise:\n",
    "    file_path = f'./models/ae_mnist_{attack_type}_{activation_type}_proposed.pth.tar'\n",
    "else:\n",
    "    file_path = f'./models/ae_mnist_{attack_type}_{activation_type}_vanilla.pth.tar'\n",
    "\n",
    "convAE = ConvAutoencoder_ReLU(device, z_dim, include_noise)\n",
    "convAE.to(device)\n",
    "convAE.load_state_dict(torch.load(file_path)['convAE_state_dict'])"
   ]
  },
  {
   "cell_type": "code",
   "execution_count": 21,
   "metadata": {},
   "outputs": [
    {
     "name": "stdout",
     "output_type": "stream",
     "text": [
      "Epsilon: 0.3, Test Accuracy: 0.9061\n"
     ]
    }
   ],
   "source": [
    "correct, total = 0, 0\n",
    "\n",
    "for _, (imgs, labels) in enumerate(test_loader):\n",
    "    batch_size = imgs.shape[0]\n",
    "    imgs, labels = Variable(imgs.to(device), requires_grad=True), Variable(labels.to(device))\n",
    "    \n",
    "    if attack_type == 'fgsm':\n",
    "        adv_imgs, _ = fgsm_attack(classifier, imgs, labels, eps_fgsm, dataset)\n",
    "    else:\n",
    "        adv_imgs, _ = pgd_linf(classifier, imgs, labels, eps_pgd, alpha, num_iter)\n",
    "\n",
    "    adv_imgs = adv_imgs.to(device)\n",
    "\n",
    "    with torch.no_grad():\n",
    "        rec_imgs = convAE(adv_imgs)\n",
    "\n",
    "    y_preds = classifier(rec_imgs).argmax(dim=1)\n",
    "    correct += (y_preds==labels).sum().item()\n",
    "    total += labels.size(0)\n",
    "\n",
    "print(\"Epsilon: {}, Test Accuracy: {}\".format(eps_fgsm, correct / total))"
   ]
  },
  {
   "attachments": {},
   "cell_type": "markdown",
   "metadata": {},
   "source": [
    "## Performance of ReLU Vanilla Architecure (FGSM Attack)"
   ]
  },
  {
   "cell_type": "code",
   "execution_count": 22,
   "metadata": {},
   "outputs": [
    {
     "data": {
      "text/plain": [
       "<All keys matched successfully>"
      ]
     },
     "execution_count": 22,
     "metadata": {},
     "output_type": "execute_result"
    }
   ],
   "source": [
    "include_noise = False\n",
    "attack_type = 'fgsm'\n",
    "activation_type = 'relu'\n",
    "\n",
    "if include_noise:\n",
    "    file_path = f'./models/ae_mnist_{attack_type}_{activation_type}_proposed.pth.tar'\n",
    "else:\n",
    "    file_path = f'./models/ae_mnist_{attack_type}_{activation_type}_vanilla.pth.tar'\n",
    "\n",
    "convAE = ConvAutoencoder_ReLU(device, z_dim, include_noise)\n",
    "convAE.to(device)\n",
    "convAE.load_state_dict(torch.load(file_path)['convAE_state_dict'])"
   ]
  },
  {
   "cell_type": "code",
   "execution_count": 23,
   "metadata": {},
   "outputs": [
    {
     "name": "stdout",
     "output_type": "stream",
     "text": [
      "Epsilon: 0.3, Test Accuracy: 0.8916\n"
     ]
    }
   ],
   "source": [
    "correct, total = 0, 0\n",
    "\n",
    "for _, (imgs, labels) in enumerate(test_loader):\n",
    "    batch_size = imgs.shape[0]\n",
    "    imgs, labels = Variable(imgs.to(device), requires_grad=True), Variable(labels.to(device))\n",
    "    \n",
    "    if attack_type == 'fgsm':\n",
    "        adv_imgs, _ = fgsm_attack(classifier, imgs, labels, eps_fgsm, dataset)\n",
    "    else:\n",
    "        adv_imgs, _ = pgd_linf(classifier, imgs, labels, eps_pgd, alpha, num_iter)\n",
    "\n",
    "    adv_imgs = adv_imgs.to(device)\n",
    "\n",
    "    with torch.no_grad():\n",
    "        rec_imgs = convAE(adv_imgs)\n",
    "\n",
    "    y_preds = classifier(rec_imgs).argmax(dim=1)\n",
    "    correct += (y_preds==labels).sum().item()\n",
    "    total += labels.size(0)\n",
    "\n",
    "print(\"Epsilon: {}, Test Accuracy: {}\".format(eps_fgsm, correct / total))"
   ]
  },
  {
   "attachments": {},
   "cell_type": "markdown",
   "metadata": {},
   "source": [
    "## Performance of GELU Proposed Architecure (PGD Attack)"
   ]
  },
  {
   "cell_type": "code",
   "execution_count": 24,
   "metadata": {},
   "outputs": [
    {
     "data": {
      "text/plain": [
       "<All keys matched successfully>"
      ]
     },
     "execution_count": 24,
     "metadata": {},
     "output_type": "execute_result"
    }
   ],
   "source": [
    "include_noise = True\n",
    "attack_type = 'pgd'\n",
    "activation_type = 'gelu'\n",
    "\n",
    "if include_noise:\n",
    "    file_path = f'./models/ae_mnist_{attack_type}_{activation_type}_proposed.pth.tar'\n",
    "else:\n",
    "    file_path = f'./models/ae_mnist_{attack_type}_{activation_type}_vanilla.pth.tar'\n",
    "\n",
    "convAE = ConvAutoencoder_GELU(device, z_dim, include_noise)\n",
    "convAE.to(device)\n",
    "convAE.load_state_dict(torch.load(file_path)['convAE_state_dict'])"
   ]
  },
  {
   "cell_type": "code",
   "execution_count": 25,
   "metadata": {},
   "outputs": [
    {
     "name": "stdout",
     "output_type": "stream",
     "text": [
      "Epsilon: 0.15, Test Accuracy: 0.934\n"
     ]
    }
   ],
   "source": [
    "correct, total = 0, 0\n",
    "\n",
    "for _, (imgs, labels) in enumerate(test_loader):\n",
    "    batch_size = imgs.shape[0]\n",
    "    imgs, labels = Variable(imgs.to(device), requires_grad=True), Variable(labels.to(device))\n",
    "    \n",
    "    if attack_type == 'fgsm':\n",
    "        adv_imgs, _ = fgsm_attack(classifier, imgs, labels, eps_fgsm, dataset)\n",
    "    else:\n",
    "        adv_imgs, _ = pgd_linf(classifier, imgs, labels, eps_pgd, alpha, num_iter)\n",
    "\n",
    "    adv_imgs = adv_imgs.to(device)\n",
    "\n",
    "    with torch.no_grad():\n",
    "        rec_imgs = convAE(adv_imgs)\n",
    "\n",
    "    y_preds = classifier(rec_imgs).argmax(dim=1)\n",
    "    correct += (y_preds==labels).sum().item()\n",
    "    total += labels.size(0)\n",
    "\n",
    "print(\"Epsilon: {}, Test Accuracy: {}\".format(eps_pgd, correct / total))"
   ]
  },
  {
   "attachments": {},
   "cell_type": "markdown",
   "metadata": {},
   "source": [
    "## Performance of GELU Vanilla Architecure (PGD Attack)"
   ]
  },
  {
   "cell_type": "code",
   "execution_count": 26,
   "metadata": {},
   "outputs": [
    {
     "data": {
      "text/plain": [
       "<All keys matched successfully>"
      ]
     },
     "execution_count": 26,
     "metadata": {},
     "output_type": "execute_result"
    }
   ],
   "source": [
    "include_noise = False\n",
    "attack_type = 'pgd'\n",
    "activation_type = 'gelu'\n",
    "\n",
    "if include_noise:\n",
    "    file_path = f'./models/ae_mnist_{attack_type}_{activation_type}_proposed.pth.tar'\n",
    "else:\n",
    "    file_path = f'./models/ae_mnist_{attack_type}_{activation_type}_vanilla.pth.tar'\n",
    "\n",
    "convAE = ConvAutoencoder_GELU(device, z_dim, include_noise)\n",
    "convAE.to(device)\n",
    "convAE.load_state_dict(torch.load(file_path)['convAE_state_dict'])"
   ]
  },
  {
   "cell_type": "code",
   "execution_count": 27,
   "metadata": {},
   "outputs": [
    {
     "name": "stdout",
     "output_type": "stream",
     "text": [
      "Epsilon: 0.15, Test Accuracy: 0.9232\n"
     ]
    }
   ],
   "source": [
    "correct, total = 0, 0\n",
    "\n",
    "for _, (imgs, labels) in enumerate(test_loader):\n",
    "    batch_size = imgs.shape[0]\n",
    "    imgs, labels = Variable(imgs.to(device), requires_grad=True), Variable(labels.to(device))\n",
    "    \n",
    "    if attack_type == 'fgsm':\n",
    "        adv_imgs, _ = fgsm_attack(classifier, imgs, labels, eps_fgsm, dataset)\n",
    "    else:\n",
    "        adv_imgs, _ = pgd_linf(classifier, imgs, labels, eps_pgd, alpha, num_iter)\n",
    "\n",
    "    adv_imgs = adv_imgs.to(device)\n",
    "\n",
    "    with torch.no_grad():\n",
    "        rec_imgs = convAE(adv_imgs)\n",
    "\n",
    "    y_preds = classifier(rec_imgs).argmax(dim=1)\n",
    "    correct += (y_preds==labels).sum().item()\n",
    "    total += labels.size(0)\n",
    "\n",
    "print(\"Epsilon: {}, Test Accuracy: {}\".format(eps_pgd, correct / total))"
   ]
  },
  {
   "attachments": {},
   "cell_type": "markdown",
   "metadata": {},
   "source": [
    "## Performance of ReLU Proposed Architecure (PGD Attack)"
   ]
  },
  {
   "cell_type": "code",
   "execution_count": 28,
   "metadata": {},
   "outputs": [
    {
     "data": {
      "text/plain": [
       "<All keys matched successfully>"
      ]
     },
     "execution_count": 28,
     "metadata": {},
     "output_type": "execute_result"
    }
   ],
   "source": [
    "include_noise = True\n",
    "attack_type = 'pgd'\n",
    "activation_type = 'relu'\n",
    "\n",
    "if include_noise:\n",
    "    file_path = f'./models/ae_mnist_{attack_type}_{activation_type}_proposed.pth.tar'\n",
    "else:\n",
    "    file_path = f'./models/ae_mnist_{attack_type}_{activation_type}_vanilla.pth.tar'\n",
    "\n",
    "convAE = ConvAutoencoder_ReLU(device, z_dim, include_noise)\n",
    "convAE.to(device)\n",
    "convAE.load_state_dict(torch.load(file_path)['convAE_state_dict'])"
   ]
  },
  {
   "cell_type": "code",
   "execution_count": 29,
   "metadata": {},
   "outputs": [
    {
     "name": "stdout",
     "output_type": "stream",
     "text": [
      "Epsilon: 0.15, Test Accuracy: 0.9142\n"
     ]
    }
   ],
   "source": [
    "correct, total = 0, 0\n",
    "\n",
    "for _, (imgs, labels) in enumerate(test_loader):\n",
    "    batch_size = imgs.shape[0]\n",
    "    imgs, labels = Variable(imgs.to(device), requires_grad=True), Variable(labels.to(device))\n",
    "    \n",
    "    if attack_type == 'fgsm':\n",
    "        adv_imgs, _ = fgsm_attack(classifier, imgs, labels, eps_fgsm, dataset)\n",
    "    else:\n",
    "        adv_imgs, _ = pgd_linf(classifier, imgs, labels, eps_pgd, alpha, num_iter)\n",
    "\n",
    "    adv_imgs = adv_imgs.to(device)\n",
    "\n",
    "    with torch.no_grad():\n",
    "        rec_imgs = convAE(adv_imgs)\n",
    "\n",
    "    y_preds = classifier(rec_imgs).argmax(dim=1)\n",
    "    correct += (y_preds==labels).sum().item()\n",
    "    total += labels.size(0)\n",
    "\n",
    "print(\"Epsilon: {}, Test Accuracy: {}\".format(eps_pgd, correct / total))"
   ]
  },
  {
   "attachments": {},
   "cell_type": "markdown",
   "metadata": {},
   "source": [
    "## Performance of ReLU Vanilla Architecure (PGD Attack)"
   ]
  },
  {
   "cell_type": "code",
   "execution_count": 31,
   "metadata": {},
   "outputs": [
    {
     "data": {
      "text/plain": [
       "<All keys matched successfully>"
      ]
     },
     "execution_count": 31,
     "metadata": {},
     "output_type": "execute_result"
    }
   ],
   "source": [
    "include_noise = False\n",
    "attack_type = 'pgd'\n",
    "activation_type = 'relu'\n",
    "\n",
    "if include_noise:\n",
    "    file_path = f'./models/ae_mnist_{attack_type}_{activation_type}_proposed.pth.tar'\n",
    "else:\n",
    "    file_path = f'./models/ae_mnist_{attack_type}_{activation_type}_vanilla.pth.tar'\n",
    "\n",
    "convAE = ConvAutoencoder_ReLU(device, z_dim, include_noise)\n",
    "convAE.to(device)\n",
    "convAE.load_state_dict(torch.load(file_path)['convAE_state_dict'])"
   ]
  },
  {
   "cell_type": "code",
   "execution_count": 32,
   "metadata": {},
   "outputs": [
    {
     "name": "stdout",
     "output_type": "stream",
     "text": [
      "Epsilon: 0.15, Test Accuracy: 0.9212\n"
     ]
    }
   ],
   "source": [
    "correct, total = 0, 0\n",
    "\n",
    "for _, (imgs, labels) in enumerate(test_loader):\n",
    "    batch_size = imgs.shape[0]\n",
    "    imgs, labels = Variable(imgs.to(device), requires_grad=True), Variable(labels.to(device))\n",
    "    \n",
    "    if attack_type == 'fgsm':\n",
    "        adv_imgs, _ = fgsm_attack(classifier, imgs, labels, eps_fgsm, dataset)\n",
    "    else:\n",
    "        adv_imgs, _ = pgd_linf(classifier, imgs, labels, eps_pgd, alpha, num_iter)\n",
    "\n",
    "    adv_imgs = adv_imgs.to(device)\n",
    "\n",
    "    with torch.no_grad():\n",
    "        rec_imgs = convAE(adv_imgs)\n",
    "\n",
    "    y_preds = classifier(rec_imgs).argmax(dim=1)\n",
    "    correct += (y_preds==labels).sum().item()\n",
    "    total += labels.size(0)\n",
    "\n",
    "print(\"Epsilon: {}, Test Accuracy: {}\".format(eps_pgd, correct / total))"
   ]
  },
  {
   "attachments": {},
   "cell_type": "markdown",
   "metadata": {},
   "source": [
    "## Inference latency"
   ]
  },
  {
   "cell_type": "code",
   "execution_count": 33,
   "metadata": {},
   "outputs": [
    {
     "data": {
      "text/plain": [
       "<All keys matched successfully>"
      ]
     },
     "execution_count": 33,
     "metadata": {},
     "output_type": "execute_result"
    }
   ],
   "source": [
    "include_noise = True\n",
    "attack_type = 'fgsm'\n",
    "activation_type = 'gelu'\n",
    "\n",
    "if include_noise:\n",
    "    file_path = f'./models/ae_mnist_{attack_type}_{activation_type}_proposed.pth.tar'\n",
    "else:\n",
    "    file_path = f'./models/ae_mnist_{attack_type}_{activation_type}_vanilla.pth.tar'\n",
    "\n",
    "convAE = ConvAutoencoder_GELU(device, z_dim, include_noise)\n",
    "convAE.to(device)\n",
    "convAE.load_state_dict(torch.load(file_path)['convAE_state_dict'])"
   ]
  },
  {
   "cell_type": "code",
   "execution_count": 34,
   "metadata": {},
   "outputs": [],
   "source": [
    "tot_time = 0\n",
    "\n",
    "for _, (imgs, labels) in enumerate(test_loader):\n",
    "\n",
    "    batch_size = imgs.shape[0]\n",
    "    imgs, labels = Variable(imgs.to(device), requires_grad=True), Variable(labels.to(device))\n",
    "    \n",
    "    if attack_type == 'fgsm':\n",
    "        adv_imgs, _ = fgsm_attack(classifier, imgs, labels, eps_fgsm, dataset)\n",
    "    else:\n",
    "        adv_imgs, _ = pgd_linf(classifier, imgs, labels, eps_pgd, alpha, num_iter)\n",
    "\n",
    "    adv_imgs = adv_imgs.to(device)\n",
    "\n",
    "    time_comp = time.time()\n",
    "\n",
    "    with torch.no_grad():\n",
    "        rec_imgs = convAE(adv_imgs)\n",
    "\n",
    "    y_preds = classifier(rec_imgs).argmax(dim=1)\n",
    "    tot_time += (time.time() - time_comp)"
   ]
  },
  {
   "cell_type": "code",
   "execution_count": 35,
   "metadata": {},
   "outputs": [
    {
     "name": "stdout",
     "output_type": "stream",
     "text": [
      "Time taken for defense against a single instance of attack: 0.0002 sec\n",
      "Total time taken: 2.2975 sec\n"
     ]
    }
   ],
   "source": [
    "print(f'Time taken for defense against a single instance of attack: {(tot_time)/len(test_dataset):.4f} sec')\n",
    "print(f'Total time taken: {tot_time:.4f} sec')"
   ]
  },
  {
   "attachments": {},
   "cell_type": "markdown",
   "metadata": {},
   "source": [
    "## Contrast in Loss Curves between ReLU and GELU"
   ]
  },
  {
   "cell_type": "code",
   "execution_count": 36,
   "metadata": {},
   "outputs": [],
   "source": [
    "include_noise = True\n",
    "attack_type = 'fgsm'\n",
    "activation_type = 'gelu'\n",
    "\n",
    "if include_noise:\n",
    "    file_path = f'./models/ae_mnist_{attack_type}_{activation_type}_proposed.pth.tar'\n",
    "else:\n",
    "    file_path = f'./models/ae_mnist_{attack_type}_{activation_type}_vanilla.pth.tar'\n",
    "\n",
    "train_losses_1 = torch.load(file_path)['train_losses']\n",
    "val_losses_1 = torch.load(file_path)['val_losses']"
   ]
  },
  {
   "cell_type": "code",
   "execution_count": 37,
   "metadata": {},
   "outputs": [],
   "source": [
    "include_noise = True\n",
    "attack_type = 'fgsm'\n",
    "activation_type = 'relu'\n",
    "\n",
    "if include_noise:\n",
    "    file_path = f'./models/ae_mnist_{attack_type}_{activation_type}_proposed.pth.tar'\n",
    "else:\n",
    "    file_path = f'./models/ae_mnist_{attack_type}_{activation_type}_vanilla.pth.tar'\n",
    "\n",
    "train_losses_2 = torch.load(file_path)['train_losses']\n",
    "val_losses_2 = torch.load(file_path)['val_losses']"
   ]
  },
  {
   "cell_type": "code",
   "execution_count": 38,
   "metadata": {},
   "outputs": [
    {
     "data": {
      "image/png": "[encoded data removed]",
      "text/plain": [
       "<Figure size 640x480 with 1 Axes>"
      ]
     },
     "metadata": {},
     "output_type": "display_data"
    }
   ],
   "source": [
    "plt.plot(train_losses_1, label='GELU')\n",
    "plt.plot(train_losses_2, label='ReLU')\n",
    "plt.xlabel('Training Epochs')\n",
    "plt.ylabel('Loss Value')\n",
    "plt.legend()\n",
    "plt.savefig(f'./plots/GELU_vs_ReLU.png', transparent=False)\n",
    "plt.show()"
   ]
  },
  {
   "attachments": {},
   "cell_type": "markdown",
   "metadata": {},
   "source": [
    "## Contrast in Adversarial, Recreated and Original Images (FGSM attack)"
   ]
  },
  {
   "cell_type": "code",
   "execution_count": 39,
   "metadata": {},
   "outputs": [
    {
     "data": {
      "text/plain": [
       "<All keys matched successfully>"
      ]
     },
     "execution_count": 39,
     "metadata": {},
     "output_type": "execute_result"
    }
   ],
   "source": [
    "include_noise = True\n",
    "attack_type = 'fgsm'\n",
    "activation_type = 'gelu'\n",
    "\n",
    "if include_noise:\n",
    "    file_path = f'./models/ae_mnist_{attack_type}_{activation_type}_proposed.pth.tar'\n",
    "else:\n",
    "    file_path = f'./models/ae_mnist_{attack_type}_{activation_type}_vanilla.pth.tar'\n",
    "\n",
    "convAE = ConvAutoencoder_GELU(device, z_dim, include_noise)\n",
    "convAE.to(device)\n",
    "convAE.load_state_dict(torch.load(file_path)['convAE_state_dict'])"
   ]
  },
  {
   "cell_type": "code",
   "execution_count": 40,
   "metadata": {},
   "outputs": [
    {
     "data": {
      "image/png": "[encoded data removed]",
      "text/plain": [
       "<Figure size 1000x500 with 3 Axes>"
      ]
     },
     "metadata": {},
     "output_type": "display_data"
    }
   ],
   "source": [
    "for i, (imgs, labels) in enumerate(test_loader):\n",
    "    batch_size = imgs.shape[0]\n",
    "    imgs, labels = Variable(imgs.to(device), requires_grad=True), Variable(labels.to(device))\n",
    "    \n",
    "    if attack_type == 'fgsm':\n",
    "        adv_imgs, _ = fgsm_attack(classifier, imgs, labels, eps_fgsm, dataset)\n",
    "    else:\n",
    "        adv_imgs, _ = pgd_linf(classifier, imgs, labels, eps_pgd, alpha, num_iter)\n",
    "\n",
    "    adv_imgs = adv_imgs.to(device)\n",
    "\n",
    "    with torch.no_grad():\n",
    "        rec_imgs = convAE(adv_imgs)\n",
    "\n",
    "    imgs, adv_imgs, rec_imgs = to_numpy_array(imgs[0]), to_numpy_array(adv_imgs[0]), to_numpy_array(rec_imgs[0])\n",
    "\n",
    "    f, (ax1, ax2, ax3) = plt.subplots(1, 3, sharey=True, figsize=(10,5))\n",
    "    ax1.imshow(adv_imgs)\n",
    "    ax1.set_title(\"Adversarial Image\")\n",
    "    ax2.imshow(rec_imgs)\n",
    "    ax2.set_title(\"Recreated Image\")\n",
    "    ax3.imshow(imgs)\n",
    "    ax3.set_title(\"Original Image\")\n",
    "    # f.plot()\n",
    "\n",
    "    f.savefig('./plots/recreated_fgsm.png', transparent=False)\n",
    "    break"
   ]
  },
  {
   "attachments": {},
   "cell_type": "markdown",
   "metadata": {},
   "source": [
    "## Contrast in Adversarial, Recreated and Original Images (PGD attack)"
   ]
  },
  {
   "cell_type": "code",
   "execution_count": 41,
   "metadata": {},
   "outputs": [
    {
     "data": {
      "text/plain": [
       "<All keys matched successfully>"
      ]
     },
     "execution_count": 41,
     "metadata": {},
     "output_type": "execute_result"
    }
   ],
   "source": [
    "include_noise = True\n",
    "attack_type = 'pgd'\n",
    "activation_type = 'gelu'\n",
    "\n",
    "if include_noise:\n",
    "    file_path = f'./models/ae_mnist_{attack_type}_{activation_type}_proposed.pth.tar'\n",
    "else:\n",
    "    file_path = f'./models/ae_mnist_{attack_type}_{activation_type}_vanilla.pth.tar'\n",
    "\n",
    "convAE = ConvAutoencoder_GELU(device, z_dim, include_noise)\n",
    "convAE.to(device)\n",
    "convAE.load_state_dict(torch.load(file_path)['convAE_state_dict'])"
   ]
  },
  {
   "cell_type": "code",
   "execution_count": 42,
   "metadata": {},
   "outputs": [
    {
     "data": {
      "image/png": "[encoded data removed]",
      "text/plain": [
       "<Figure size 1000x500 with 3 Axes>"
      ]
     },
     "metadata": {},
     "output_type": "display_data"
    }
   ],
   "source": [
    "for i, (imgs, labels) in enumerate(test_loader):\n",
    "    batch_size = imgs.shape[0]\n",
    "    imgs, labels = Variable(imgs.to(device), requires_grad=True), Variable(labels.to(device))\n",
    "    \n",
    "    if attack_type == 'fgsm':\n",
    "        adv_imgs, _ = fgsm_attack(classifier, imgs, labels, eps_fgsm, dataset)\n",
    "    else:\n",
    "        adv_imgs, _ = pgd_linf(classifier, imgs, labels, eps_pgd, alpha, num_iter)\n",
    "\n",
    "    adv_imgs = adv_imgs.to(device)\n",
    "\n",
    "    with torch.no_grad():\n",
    "        rec_imgs = convAE(adv_imgs)\n",
    "\n",
    "    imgs, adv_imgs, rec_imgs = to_numpy_array(imgs[0]), to_numpy_array(adv_imgs[0]), to_numpy_array(rec_imgs[0])\n",
    "\n",
    "    f, (ax1, ax2, ax3) = plt.subplots(1, 3, sharey=True, figsize=(10,5))\n",
    "    ax1.imshow(adv_imgs)\n",
    "    ax1.set_title(\"Adversarial Image\")\n",
    "    ax2.imshow(rec_imgs)\n",
    "    ax2.set_title(\"Recreated Image\")\n",
    "    ax3.imshow(imgs)\n",
    "    ax3.set_title(\"Original Image\")\n",
    "    f.savefig('./plots/recreated_pgd.png', transparent=False)\n",
    "\n",
    "    break"
   ]
  },
  {
   "cell_type": "code",
   "execution_count": 56,
   "metadata": {},
   "outputs": [
    {
     "name": "stdout",
     "output_type": "stream",
     "text": [
      "500\n"
     ]
    }
   ],
   "source": [
    "dataset = datasets.MNIST(root= './data', train = False, download =True, transform = transform)\n",
    "_, t_dataset = torch.utils.data.random_split(dataset, [9500, 500])\n",
    "loader = DataLoader(t_dataset, batch_size=batch_size, shuffle=True)\n",
    "print(len(t_dataset))"
   ]
  },
  {
   "cell_type": "code",
   "execution_count": 57,
   "metadata": {},
   "outputs": [
    {
     "name": "stdout",
     "output_type": "stream",
     "text": [
      "./models/ae_mnist_pgd_gelu_proposed.pth.tar\n"
     ]
    },
    {
     "data": {
      "text/plain": [
       "<All keys matched successfully>"
      ]
     },
     "execution_count": 57,
     "metadata": {},
     "output_type": "execute_result"
    }
   ],
   "source": [
    "include_noise = True\n",
    "attack_type = 'pgd'\n",
    "activation_type = 'gelu'\n",
    "dataset = 'mnist'\n",
    "\n",
    "if include_noise:\n",
    "    file_path = f'./models/ae_mnist_{attack_type}_{activation_type}_proposed.pth.tar'\n",
    "else:\n",
    "    file_path = f'./models/ae_mnist_{attack_type}_{activation_type}_vanilla.pth.tar'\n",
    "\n",
    "print(file_path)\n",
    "\n",
    "convAE_1 = ConvAutoencoder_GELU(device, z_dim, include_noise)\n",
    "convAE_1.to(device)\n",
    "convAE_1.load_state_dict(torch.load(file_path)['convAE_state_dict'])"
   ]
  },
  {
   "cell_type": "code",
   "execution_count": 58,
   "metadata": {},
   "outputs": [
    {
     "name": "stdout",
     "output_type": "stream",
     "text": [
      "Epsilon: 0.3, Test Accuracy: 0.924\n"
     ]
    }
   ],
   "source": [
    "correct, total = 0, 0\n",
    "\n",
    "for _, (imgs, labels) in enumerate(loader):\n",
    "    batch_size = imgs.shape[0]\n",
    "    imgs, labels = Variable(imgs.to(device), requires_grad=True), Variable(labels.to(device))\n",
    "    \n",
    "    if attack_type == 'fgsm':\n",
    "        adv_imgs, _ = fgsm_attack(classifier, imgs, labels, eps_fgsm, dataset)\n",
    "    else:\n",
    "        adv_imgs, _ = pgd_linf(classifier, imgs, labels, eps_pgd, alpha, num_iter)\n",
    "\n",
    "    adv_imgs = adv_imgs.to(device)\n",
    "\n",
    "    with torch.no_grad():\n",
    "        rec_imgs = convAE_1(adv_imgs)\n",
    "\n",
    "    y_preds = classifier(rec_imgs).argmax(dim=1)\n",
    "    correct += (y_preds==labels).sum().item()\n",
    "    total += labels.size(0)\n",
    "\n",
    "print(\"Epsilon: {}, Test Accuracy: {}\".format(eps_fgsm, correct / total))"
   ]
  },
  {
   "cell_type": "code",
   "execution_count": null,
   "metadata": {},
   "outputs": [],
   "source": []
  }
 ],
 "metadata": {
  "kernelspec": {
   "display_name": "cs776",
   "language": "python",
   "name": "python3"
  },
  "language_info": {
   "codemirror_mode": {
    "name": "ipython",
    "version": 3
   },
   "file_extension": ".py",
   "mimetype": "text/x-python",
   "name": "python",
   "nbconvert_exporter": "python",
   "pygments_lexer": "ipython3",
   "version": "3.7.16"
  },
  "orig_nbformat": 4
 },
 "nbformat": 4,
 "nbformat_minor": 2
}
