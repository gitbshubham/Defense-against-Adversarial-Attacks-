{
 "cells": [
  {
   "cell_type": "code",
   "execution_count": 1,
   "metadata": {},
   "outputs": [
    {
     "name": "stderr",
     "output_type": "stream",
     "text": [
      "c:\\Users\\malay\\miniconda3\\envs\\cs776\\lib\\site-packages\\tqdm\\auto.py:21: TqdmWarning: IProgress not found. Please update jupyter and ipywidgets. See https://ipywidgets.readthedocs.io/en/stable/user_install.html\n",
      "  from .autonotebook import tqdm as notebook_tqdm\n"
     ]
    }
   ],
   "source": [
    "import matplotlib.pyplot as plt\n",
    "import numpy as np\n",
    "import torch\n",
    "import torch.nn as nn\n",
    "import torch.nn.functional as F\n",
    "from torch.autograd import Variable\n",
    "import torchvision\n",
    "import torchvision.transforms as transforms\n",
    "from torchvision import models\n",
    "from lenet import Net\n",
    "from utils import to_numpy_array, fgsm_attack"
   ]
  },
  {
   "cell_type": "code",
   "execution_count": 2,
   "metadata": {},
   "outputs": [
    {
     "name": "stdout",
     "output_type": "stream",
     "text": [
      "cuda\n"
     ]
    }
   ],
   "source": [
    "device = torch.device(\"cuda\" if torch.cuda.is_available() else \"cpu\")\n",
    "print(device)\n",
    "batch_size = 16\n",
    "epsilons = [0, .05, .1, .15, .2, .25, .3]\n",
    "# epsilons = [0]"
   ]
  },
  {
   "cell_type": "code",
   "execution_count": 3,
   "metadata": {},
   "outputs": [],
   "source": [
    "transform=transforms.Compose([\n",
    "            transforms.ToTensor(),\n",
    "])\n",
    "\n",
    "test_dataset = torchvision.datasets.MNIST(root= './data', train = False, download =True, transform = transform)\n",
    "test_loader = torch.utils.data.DataLoader(test_dataset, batch_size = batch_size, shuffle = True)"
   ]
  },
  {
   "cell_type": "code",
   "execution_count": 4,
   "metadata": {},
   "outputs": [],
   "source": [
    "dataset = 'mnist'"
   ]
  },
  {
   "cell_type": "code",
   "execution_count": 5,
   "metadata": {},
   "outputs": [],
   "source": [
    "model = Net()\n",
    "model.to(device)\n",
    "model.load_state_dict(torch.load('./models/lenet_mnist_model.pth'))\n",
    "accs = []"
   ]
  },
  {
   "cell_type": "code",
   "execution_count": 13,
   "metadata": {},
   "outputs": [
    {
     "name": "stdout",
     "output_type": "stream",
     "text": [
      "Epsilon: 0, Test Accuracy: 0.9468\n",
      "Epsilon: 0.05, Test Accuracy: 0.8959\n",
      "Epsilon: 0.1, Test Accuracy: 0.823\n",
      "Epsilon: 0.15, Test Accuracy: 0.6991\n",
      "Epsilon: 0.2, Test Accuracy: 0.5375\n",
      "Epsilon: 0.25, Test Accuracy: 0.3705\n",
      "Epsilon: 0.3, Test Accuracy: 0.2383\n"
     ]
    }
   ],
   "source": [
    "for eps in epsilons:\n",
    "    total = 0\n",
    "    correct = 0\n",
    "\n",
    "    for i, (imgs, labels) in enumerate(test_loader):\n",
    "        imgs = imgs.to(device)\n",
    "        labels = labels.to(device)\n",
    "        # print(labels.shape)\n",
    "        imgs = Variable(imgs, requires_grad=True)\n",
    "        labels = Variable(labels)\n",
    "\n",
    "        new_imgs, new_preds = fgsm_attack(model, imgs, labels, eps, dataset)\n",
    "        correct += (new_preds==labels).sum().item()\n",
    "        total += labels.size(0)\n",
    "\n",
    "    accs.append((correct / total))\n",
    "    print(\"Epsilon: {}, Test Accuracy: {}\".format(eps, correct / total))"
   ]
  },
  {
   "cell_type": "code",
   "execution_count": 14,
   "metadata": {},
   "outputs": [],
   "source": [
    "fig, ax = plt.subplots(nrows=1, ncols=1)  # create figure & 1 axis\n",
    "ax.plot(epsilons, accs, \"*-\")\n",
    "ax.set_title(\"Accuracy vs Epsilon\")\n",
    "ax.set_xlabel(\"Epsilon\")\n",
    "ax.set_ylabel(\"Accuracy\")\n",
    "fig.savefig('./plots/epsilon_vs_accuracy_mnist.png', transparent=False)   # save the figure to file\n",
    "plt.close(fig)    # close the figure window"
   ]
  },
  {
   "cell_type": "code",
   "execution_count": 48,
   "metadata": {},
   "outputs": [
    {
     "name": "stderr",
     "output_type": "stream",
     "text": [
      "c:\\Users\\malay\\miniconda3\\envs\\cs776\\lib\\site-packages\\ipykernel_launcher.py:43: UserWarning: Matplotlib is currently using module://matplotlib_inline.backend_inline, which is a non-GUI backend, so cannot show the figure.\n"
     ]
    },
    {
     "data": {
      "image/png": "[encoded data removed]",
      "text/plain": [
       "<Figure size 800x400 with 14 Axes>"
      ]
     },
     "metadata": {},
     "output_type": "display_data"
    }
   ],
   "source": [
    "for i, (imgs, labels) in enumerate(test_loader):\n",
    "    imgs, labels = imgs.to(device), labels.to(device)\n",
    "    imgs, labels = Variable(imgs, requires_grad=True), Variable(labels)\n",
    "\n",
    "    plot_name = f'./plots/fgsm_attack_{dataset}.png'\n",
    "\n",
    "    f = plt.figure(figsize=(8,4))\n",
    "    gs = f.add_gridspec(2, len(epsilons))\n",
    "    gs.update(wspace=0.025, hspace=-0.25) \n",
    "\n",
    "    for i in range(len(epsilons)):\n",
    "        eps = epsilons[i]\n",
    "        ax1 = f.add_subplot(gs[0,i])\n",
    "        imgs, labels = imgs.to(device), labels.to(device)\n",
    "        imgs, labels = Variable(imgs, requires_grad=True), Variable(labels)\n",
    "\n",
    "        adv_imgs, _ = fgsm_attack(model, imgs, labels, eps, dataset)\n",
    "\n",
    "        img, adv_img = imgs[0], adv_imgs[0]\n",
    "        img, adv_img = to_numpy_array(img), to_numpy_array(adv_img)\n",
    "\n",
    "        ax1.imshow(adv_img)\n",
    "        ax1.set_xlabel(f\"$\\epsilon$: {eps}\")\n",
    "        ax1.set_xticklabels([])\n",
    "        ax1.set_yticklabels([])\n",
    "\n",
    "    for i in range(len(epsilons)):\n",
    "        eps = epsilons[i]\n",
    "        ax2 = f.add_subplot(gs[1, i])\n",
    "        imgs, labels = imgs.to(device), labels.to(device)\n",
    "        imgs, labels = Variable(imgs, requires_grad=True), Variable(labels)\n",
    "\n",
    "        adv_imgs, _ = fgsm_attack(model, imgs, labels, eps, dataset)\n",
    "\n",
    "        img, adv_img = imgs[0], adv_imgs[0]\n",
    "        img, adv_img = to_numpy_array(img), to_numpy_array(adv_img)\n",
    "        noise = adv_img - img\n",
    "\n",
    "        ax2.imshow(noise)\n",
    "        ax2.set_xticklabels([])\n",
    "        ax2.set_yticklabels([])\n",
    "\n",
    "    f.show()\n",
    "    f.savefig(plot_name, transparent=False, dpi=300)\n",
    "    break"
   ]
  },
  {
   "cell_type": "code",
   "execution_count": 47,
   "metadata": {},
   "outputs": [],
   "source": [
    "# for eps in epsilons:\n",
    "\n",
    "#     for i, (imgs, labels) in enumerate(test_loader):\n",
    "#         imgs, labels = imgs.to(device), labels.to(device)\n",
    "#         imgs, labels = Variable(imgs, requires_grad=True), Variable(labels)\n",
    "\n",
    "#         adv_imgs, _ = fgsm_attack(model, imgs, labels, eps, dataset)\n",
    "\n",
    "#         img, adv_img = imgs[0], adv_imgs[0]\n",
    "#         img, adv_img = to_numpy_array(img), to_numpy_array(adv_img)\n",
    "#         noise = adv_img - img\n",
    "        \n",
    "        \n",
    "#         plot_name = f\"./plots/fgsm_attack_epsilon_{eps}.png\"\n",
    "#         f, (ax1, ax2, ax3) = plt.subplots(1, 3, sharey=True)\n",
    "#         ax1.imshow(img)\n",
    "#         ax1.set_title(\"Original Image\")\n",
    "#         ax2.imshow(adv_img)\n",
    "#         ax2.set_title(\"Adversarial Image\")\n",
    "#         ax3.imshow(noise)\n",
    "#         ax3.set_title(\"Noise\")\n",
    "#         f.savefig(plot_name, transparent=False, dpi=300)\n",
    "#         break"
   ]
  },
  {
   "cell_type": "code",
   "execution_count": null,
   "metadata": {},
   "outputs": [],
   "source": []
  }
 ],
 "metadata": {
  "kernelspec": {
   "display_name": "cs776",
   "language": "python",
   "name": "python3"
  },
  "language_info": {
   "codemirror_mode": {
    "name": "ipython",
    "version": 3
   },
   "file_extension": ".py",
   "mimetype": "text/x-python",
   "name": "python",
   "nbconvert_exporter": "python",
   "pygments_lexer": "ipython3",
   "version": "3.7.16"
  },
  "orig_nbformat": 4
 },
 "nbformat": 4,
 "nbformat_minor": 2
}
